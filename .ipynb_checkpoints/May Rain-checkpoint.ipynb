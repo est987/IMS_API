{
 "cells": [
  {
   "cell_type": "code",
   "execution_count": 1,
   "metadata": {},
   "outputs": [],
   "source": [
    "import json\n",
    "import requests\n",
    "import pandas as pd\n",
    "import numpy as np\n",
    "import matplotlib.pyplot as plt\n",
    "import time\n",
    "\n",
    "#LOAD IMS API TOKEN\n",
    "api_token = open(\"SECRETS/API_TOKEN.txt\", \"r\").read()\n",
    "headers = {\n",
    "  'Authorization': 'ApiToken {}'.format(api_token)\n",
    "}"
   ]
  },
  {
   "cell_type": "code",
   "execution_count": 2,
   "metadata": {},
   "outputs": [],
   "source": [
    "#load metadata\n",
    "def loadMetadata():\n",
    "    metadata = pd.read_csv('data/IMS_files/metadata10mins.csv', encoding='windows=1255')\n",
    "    metadata = metadata.dropna(how='all')[1:-1].reset_index(drop=True)\n",
    "    metadata.columns\n",
    "    metadata = metadata.rename(columns={'תאריך פתיחה':'open_date', 'שם לועזי':'name'})\n",
    "    metadata['open_date']\n",
    "    metadata['date'] = pd.to_datetime(metadata['open_date'], format='%d/%m/%Y')\n",
    "    \n",
    "    return metadata\n",
    "\n",
    "metadata = loadMetadata()"
   ]
  },
  {
   "cell_type": "code",
   "execution_count": 3,
   "metadata": {},
   "outputs": [],
   "source": [
    "## LOAD STATIONS\n",
    "stations = pd.read_csv('data/stations/stations.csv')\n",
    "stationChannels = pd.read_csv('data/stations/stationChannels.csv')\n",
    "\n",
    "stations = stations.loc[stations.active].reset_index(drop=True)"
   ]
  },
  {
   "cell_type": "code",
   "execution_count": 4,
   "metadata": {},
   "outputs": [],
   "source": [
    "##Return station id and channel id for rain for stations\n",
    "def stationIdAndRainChannelId(stationName):\n",
    "#     print(stationName)\n",
    "    stationId = stations.loc[stations['name'] == stationName, 'stationId'].item()\n",
    "    #get channel id if measures rain\n",
    "    try:\n",
    "        channelId = stationChannels.loc[(stationChannels['stationId'] == stationId) & (stationChannels['channelName'] == 'Rain'), 'channelID'].item()\n",
    "        channelId = int(channelId)\n",
    "    #return null otherwise\n",
    "    except:\n",
    "        channelId = np.nan\n",
    "    return stationId, channelId"
   ]
  },
  {
   "cell_type": "code",
   "execution_count": 6,
   "metadata": {},
   "outputs": [],
   "source": [
    "##return open date of station based on metadata\n",
    "def getStationOpenDate(metadata, stationName):\n",
    "    try:\n",
    "        dt = metadata.loc[metadata.name == stationName, 'date'].iloc[0]\n",
    "        year = str(dt.year)\n",
    "        month = f'{dt.month:02}'\n",
    "        day = f'{dt.day:02}'\n",
    "    except:\n",
    "        year = '1960'\n",
    "        month = '01'\n",
    "        year = '01'\n",
    "\n",
    "    return year, month, day"
   ]
  },
  {
   "cell_type": "code",
   "execution_count": 8,
   "metadata": {},
   "outputs": [],
   "source": [
    "#load station data from API\n",
    "def loadStationData(stationId, channelId, year='1960', month='01', day='01'):\n",
    "    url = 'https://api.ims.gov.il/v1/envista/stations/{}/data/{}/?FROM={}/{}/{}&to=2020/05/05'.format(stationId, channelId, year, month, day)\n",
    "    # url = 'https://api.ims.gov.il/v1/envista/stations/54/data/1/?FROM=1992/03/08&to=2020/05/05'\n",
    "    response = requests.request(\"GET\", url, headers=headers)\n",
    "    data= json.loads(response.text.encode('utf8'))\n",
    "    df = pd.DataFrame(data['data'])\n",
    "    \n",
    "    return df"
   ]
  },
  {
   "cell_type": "code",
   "execution_count": 12,
   "metadata": {},
   "outputs": [],
   "source": [
    "#extract yearly data for rain in may\n",
    "def extractMayRainPerYear(df):\n",
    "\n",
    "    df['rain'] = [x[0]['value'] if x[0]['valid'] else 0 for x in df['channels']]\n",
    "    df['date'] = pd.to_datetime(df['datetime'], utc=True)\n",
    "    df['year'] = df['date'].dt.year\n",
    "    df['month'] = df['date'].dt.month\n",
    "    maydf = df.loc[df.month==5]\n",
    "    maysum_df = maydf.groupby('year')[['rain']].sum()\n",
    "    return maysum_df"
   ]
  },
  {
   "cell_type": "code",
   "execution_count": 13,
   "metadata": {},
   "outputs": [],
   "source": [
    "## Create FIGURE\n",
    "def createMayRainFigure(maysum, stationName):\n",
    "    fig, ax = plt.subplots(figsize=(7,4.5))\n",
    "    ax.bar(maysum.index, maysum['rain'])\n",
    "    ax.set_ylabel('Rain (mm)')\n",
    "    ax.set_xlabel('Year')\n",
    "    ax.set_xticks(maysum.index)\n",
    "    ax.set_xticklabels(maysum.index, rotation=90)\n",
    "    ax.set_title('Rain in May - {} [IMS]'.format(stationName))\n",
    "\n",
    "    fig.savefig(\"graphs/may_rain/{}RainInMay.jpg\".format(stationName), bbox_inches='tight', dpi=300)\n",
    "    plt.close(\"all\")"
   ]
  },
  {
   "cell_type": "code",
   "execution_count": null,
   "metadata": {},
   "outputs": [],
   "source": [
    "# #TEST\n",
    "# stationId, channelId = stationIdAndRainChannelId(stationName)\n",
    "# df = loadStationData(stationId, channelId)\n",
    "# stationName\n",
    "# # df.sort_values(by='datetime')"
   ]
  },
  {
   "cell_type": "code",
   "execution_count": null,
   "metadata": {},
   "outputs": [],
   "source": []
  },
  {
   "cell_type": "code",
   "execution_count": null,
   "metadata": {},
   "outputs": [
    {
     "name": "stdout",
     "output_type": "stream",
     "text": [
      "AVNE ETAN\n",
      "BET ZAYDA\n",
      "ZEMAH\n",
      "MEROM GOLAN PICMAN\n",
      "YAVNEEL\n",
      "TAVOR KADOORIE\n",
      "AFULA NIR HAEMEQ\n",
      "QARNE SHOMERON\n",
      "ARIEL\n",
      "JERUSALEM GIVAT RAM\n",
      "JERUSALEM CENTRE\n",
      "HAR HARASHA\n"
     ]
    }
   ],
   "source": [
    "#Loop through stations and create graph for each stations\n",
    "for stationName in stations['name']:\n",
    "    print(stationName)\n",
    "    stationId, channelId = stationIdAndRainChannelId(stationName)\n",
    "    #if not null\n",
    "    if channelId==channelId:\n",
    "        year, month, day = getStationOpenDate(metadata, stationName)\n",
    "        df = loadStationData(stationId, channelId, year, month, day)\n",
    "        maysum_df = extractMayRainPerYear(df)\n",
    "        createMayRainFigure(maysum_df, stationName)\n",
    "    time.sleep(1)\n",
    "#     print(\"Station: {}; Id: {}; Rain Channel Id: {}\".format(stationName,stationId, channelId))\n",
    "\n",
    "\n",
    "\n",
    "\n"
   ]
  },
  {
   "cell_type": "code",
   "execution_count": null,
   "metadata": {},
   "outputs": [],
   "source": [
    "# #TEST\n",
    "# stationId, channelId = stationIdAndRainChannelId(stationName)\n",
    "# df = loadStationData(stationId, channelId)\n",
    "# stationName\n",
    "# # df.sort_values(by='datetime')"
   ]
  }
 ],
 "metadata": {
  "kernelspec": {
   "display_name": "Python 3",
   "language": "python",
   "name": "python3"
  }
 },
 "nbformat": 4,
 "nbformat_minor": 4
}
