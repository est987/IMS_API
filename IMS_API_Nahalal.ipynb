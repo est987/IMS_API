{
 "cells": [
  {
   "cell_type": "code",
   "execution_count": 4,
   "metadata": {},
   "outputs": [],
   "source": [
    "import json\n",
    "import requests\n",
    "import pandas as pd\n",
    "\n",
    "\n",
    "api_token = open(\"SECRETS/API_TOKEN.txt\", \"r\").read()\n",
    "headers = {\n",
    "  'Authorization': 'ApiToken {}'.format(api_token)\n",
    "}\n",
    "\n",
    "# url = \"https://api.ims.gov.il/v1/Envista/stations\"\n",
    "\n",
    "\n",
    "\n",
    "# response = requests.request(\"GET\", url, headers=headers)\n",
    "# data= json.loads(response.text.encode('utf8'))\n"
   ]
  },
  {
   "cell_type": "code",
   "execution_count": 5,
   "metadata": {},
   "outputs": [],
   "source": [
    "url2 = 'https://api.ims.gov.il/v1/envista/stations/186/data/1/?FROM=2019/10/15&to=2020/05/01'\n",
    "response = requests.request(\"GET\", url2, headers=headers)\n",
    "data= json.loads(response.text.encode('utf8'))"
   ]
  },
  {
   "cell_type": "code",
   "execution_count": 7,
   "metadata": {},
   "outputs": [
    {
     "data": {
      "text/html": [
       "<div>\n",
       "<style scoped>\n",
       "    .dataframe tbody tr th:only-of-type {\n",
       "        vertical-align: middle;\n",
       "    }\n",
       "\n",
       "    .dataframe tbody tr th {\n",
       "        vertical-align: top;\n",
       "    }\n",
       "\n",
       "    .dataframe thead th {\n",
       "        text-align: right;\n",
       "    }\n",
       "</style>\n",
       "<table border=\"1\" class=\"dataframe\">\n",
       "  <thead>\n",
       "    <tr style=\"text-align: right;\">\n",
       "      <th></th>\n",
       "      <th>datetime</th>\n",
       "      <th>channels</th>\n",
       "    </tr>\n",
       "  </thead>\n",
       "  <tbody>\n",
       "    <tr>\n",
       "      <th>0</th>\n",
       "      <td>2019-10-15T00:00:00+03:00</td>\n",
       "      <td>[{'id': 1, 'name': 'Rain', 'alias': None, 'val...</td>\n",
       "    </tr>\n",
       "    <tr>\n",
       "      <th>1</th>\n",
       "      <td>2019-10-15T00:10:00+03:00</td>\n",
       "      <td>[{'id': 1, 'name': 'Rain', 'alias': None, 'val...</td>\n",
       "    </tr>\n",
       "    <tr>\n",
       "      <th>2</th>\n",
       "      <td>2019-10-15T00:20:00+03:00</td>\n",
       "      <td>[{'id': 1, 'name': 'Rain', 'alias': None, 'val...</td>\n",
       "    </tr>\n",
       "    <tr>\n",
       "      <th>3</th>\n",
       "      <td>2019-10-15T00:30:00+03:00</td>\n",
       "      <td>[{'id': 1, 'name': 'Rain', 'alias': None, 'val...</td>\n",
       "    </tr>\n",
       "    <tr>\n",
       "      <th>4</th>\n",
       "      <td>2019-10-15T00:40:00+03:00</td>\n",
       "      <td>[{'id': 1, 'name': 'Rain', 'alias': None, 'val...</td>\n",
       "    </tr>\n",
       "    <tr>\n",
       "      <th>...</th>\n",
       "      <td>...</td>\n",
       "      <td>...</td>\n",
       "    </tr>\n",
       "    <tr>\n",
       "      <th>28629</th>\n",
       "      <td>2020-04-30T23:10:00+03:00</td>\n",
       "      <td>[{'id': 1, 'name': 'Rain', 'alias': None, 'val...</td>\n",
       "    </tr>\n",
       "    <tr>\n",
       "      <th>28630</th>\n",
       "      <td>2020-04-30T23:20:00+03:00</td>\n",
       "      <td>[{'id': 1, 'name': 'Rain', 'alias': None, 'val...</td>\n",
       "    </tr>\n",
       "    <tr>\n",
       "      <th>28631</th>\n",
       "      <td>2020-04-30T23:30:00+03:00</td>\n",
       "      <td>[{'id': 1, 'name': 'Rain', 'alias': None, 'val...</td>\n",
       "    </tr>\n",
       "    <tr>\n",
       "      <th>28632</th>\n",
       "      <td>2020-04-30T23:40:00+03:00</td>\n",
       "      <td>[{'id': 1, 'name': 'Rain', 'alias': None, 'val...</td>\n",
       "    </tr>\n",
       "    <tr>\n",
       "      <th>28633</th>\n",
       "      <td>2020-04-30T23:50:00+03:00</td>\n",
       "      <td>[{'id': 1, 'name': 'Rain', 'alias': None, 'val...</td>\n",
       "    </tr>\n",
       "  </tbody>\n",
       "</table>\n",
       "<p>28634 rows × 2 columns</p>\n",
       "</div>"
      ],
      "text/plain": [
       "                        datetime  \\\n",
       "0      2019-10-15T00:00:00+03:00   \n",
       "1      2019-10-15T00:10:00+03:00   \n",
       "2      2019-10-15T00:20:00+03:00   \n",
       "3      2019-10-15T00:30:00+03:00   \n",
       "4      2019-10-15T00:40:00+03:00   \n",
       "...                          ...   \n",
       "28629  2020-04-30T23:10:00+03:00   \n",
       "28630  2020-04-30T23:20:00+03:00   \n",
       "28631  2020-04-30T23:30:00+03:00   \n",
       "28632  2020-04-30T23:40:00+03:00   \n",
       "28633  2020-04-30T23:50:00+03:00   \n",
       "\n",
       "                                                channels  \n",
       "0      [{'id': 1, 'name': 'Rain', 'alias': None, 'val...  \n",
       "1      [{'id': 1, 'name': 'Rain', 'alias': None, 'val...  \n",
       "2      [{'id': 1, 'name': 'Rain', 'alias': None, 'val...  \n",
       "3      [{'id': 1, 'name': 'Rain', 'alias': None, 'val...  \n",
       "4      [{'id': 1, 'name': 'Rain', 'alias': None, 'val...  \n",
       "...                                                  ...  \n",
       "28629  [{'id': 1, 'name': 'Rain', 'alias': None, 'val...  \n",
       "28630  [{'id': 1, 'name': 'Rain', 'alias': None, 'val...  \n",
       "28631  [{'id': 1, 'name': 'Rain', 'alias': None, 'val...  \n",
       "28632  [{'id': 1, 'name': 'Rain', 'alias': None, 'val...  \n",
       "28633  [{'id': 1, 'name': 'Rain', 'alias': None, 'val...  \n",
       "\n",
       "[28634 rows x 2 columns]"
      ]
     },
     "execution_count": 7,
     "metadata": {},
     "output_type": "execute_result"
    }
   ],
   "source": [
    "df = pd.DataFrame(data['data'])\n",
    "df"
   ]
  },
  {
   "cell_type": "code",
   "execution_count": 8,
   "metadata": {},
   "outputs": [],
   "source": [
    "df['rain_mm'] = [x[0]['value'] for x in df['channels']]"
   ]
  },
  {
   "cell_type": "code",
   "execution_count": 9,
   "metadata": {},
   "outputs": [],
   "source": [
    "df['date'] = pd.to_datetime(df['datetime'], utc=True).dt.date"
   ]
  },
  {
   "cell_type": "code",
   "execution_count": 10,
   "metadata": {},
   "outputs": [
    {
     "data": {
      "text/html": [
       "<div>\n",
       "<style scoped>\n",
       "    .dataframe tbody tr th:only-of-type {\n",
       "        vertical-align: middle;\n",
       "    }\n",
       "\n",
       "    .dataframe tbody tr th {\n",
       "        vertical-align: top;\n",
       "    }\n",
       "\n",
       "    .dataframe thead th {\n",
       "        text-align: right;\n",
       "    }\n",
       "</style>\n",
       "<table border=\"1\" class=\"dataframe\">\n",
       "  <thead>\n",
       "    <tr style=\"text-align: right;\">\n",
       "      <th></th>\n",
       "      <th>rain_mm</th>\n",
       "    </tr>\n",
       "    <tr>\n",
       "      <th>date</th>\n",
       "      <th></th>\n",
       "    </tr>\n",
       "  </thead>\n",
       "  <tbody>\n",
       "    <tr>\n",
       "      <th>2019-10-14</th>\n",
       "      <td>0.0</td>\n",
       "    </tr>\n",
       "    <tr>\n",
       "      <th>2019-10-15</th>\n",
       "      <td>2.2</td>\n",
       "    </tr>\n",
       "    <tr>\n",
       "      <th>2019-10-16</th>\n",
       "      <td>0.0</td>\n",
       "    </tr>\n",
       "    <tr>\n",
       "      <th>2019-10-17</th>\n",
       "      <td>0.0</td>\n",
       "    </tr>\n",
       "    <tr>\n",
       "      <th>2019-10-18</th>\n",
       "      <td>0.0</td>\n",
       "    </tr>\n",
       "    <tr>\n",
       "      <th>...</th>\n",
       "      <td>...</td>\n",
       "    </tr>\n",
       "    <tr>\n",
       "      <th>2020-04-26</th>\n",
       "      <td>0.0</td>\n",
       "    </tr>\n",
       "    <tr>\n",
       "      <th>2020-04-27</th>\n",
       "      <td>0.0</td>\n",
       "    </tr>\n",
       "    <tr>\n",
       "      <th>2020-04-28</th>\n",
       "      <td>0.0</td>\n",
       "    </tr>\n",
       "    <tr>\n",
       "      <th>2020-04-29</th>\n",
       "      <td>0.0</td>\n",
       "    </tr>\n",
       "    <tr>\n",
       "      <th>2020-04-30</th>\n",
       "      <td>0.0</td>\n",
       "    </tr>\n",
       "  </tbody>\n",
       "</table>\n",
       "<p>200 rows × 1 columns</p>\n",
       "</div>"
      ],
      "text/plain": [
       "            rain_mm\n",
       "date               \n",
       "2019-10-14      0.0\n",
       "2019-10-15      2.2\n",
       "2019-10-16      0.0\n",
       "2019-10-17      0.0\n",
       "2019-10-18      0.0\n",
       "...             ...\n",
       "2020-04-26      0.0\n",
       "2020-04-27      0.0\n",
       "2020-04-28      0.0\n",
       "2020-04-29      0.0\n",
       "2020-04-30      0.0\n",
       "\n",
       "[200 rows x 1 columns]"
      ]
     },
     "execution_count": 10,
     "metadata": {},
     "output_type": "execute_result"
    }
   ],
   "source": [
    "df_daily = df[['date','rain_mm']].groupby('date').sum()\n",
    "df_daily"
   ]
  },
  {
   "cell_type": "code",
   "execution_count": 11,
   "metadata": {},
   "outputs": [
    {
     "data": {
      "text/plain": [
       "<matplotlib.axes._subplots.AxesSubplot at 0x2a86bf98f88>"
      ]
     },
     "execution_count": 11,
     "metadata": {},
     "output_type": "execute_result"
    },
    {
     "data": {
      "image/png": "[encoded data removed]",
      "text/plain": [
       "<Figure size 432x288 with 1 Axes>"
      ]
     },
     "metadata": {
      "needs_background": "light"
     },
     "output_type": "display_data"
    }
   ],
   "source": [
    "df_daily.plot()"
   ]
  },
  {
   "cell_type": "code",
   "execution_count": null,
   "metadata": {},
   "outputs": [],
   "source": []
  },
  {
   "cell_type": "code",
   "execution_count": null,
   "metadata": {},
   "outputs": [],
   "source": []
  }
 ],
 "metadata": {
  "kernelspec": {
   "display_name": "pyviz37test",
   "language": "python",
   "name": "pyviz37test"
  },
  "language_info": {
   "codemirror_mode": {
    "name": "ipython",
    "version": 3
   },
   "file_extension": ".py",
   "mimetype": "text/x-python",
   "name": "python",
   "nbconvert_exporter": "python",
   "pygments_lexer": "ipython3",
   "version": "3.7.6"
  }
 },
 "nbformat": 4,
 "nbformat_minor": 4
}
